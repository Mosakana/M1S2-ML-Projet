{
 "cells": [
  {
   "cell_type": "code",
   "execution_count": 22,
   "id": "initial_id",
   "metadata": {
    "collapsed": true,
    "ExecuteTime": {
     "end_time": "2024-05-22T12:53:29.334058300Z",
     "start_time": "2024-05-22T12:53:29.270371Z"
    }
   },
   "outputs": [],
   "source": [
    "import numpy as np\n",
    "\n",
    "def load_usps(fn):\n",
    "    with open(fn,\"r\") as f:\n",
    "        f.readline()\n",
    "        data = [[float(x) for x in l.split()] for l in f if len(l.split())>2]\n",
    "    tmp=np.array(data)\n",
    "    return tmp[:,1:],tmp[:,0].astype(int)\n",
    "\n",
    "def get_usps(l,datax,datay):\n",
    "    if type(l)!=list:\n",
    "        resx = datax[datay==l,:]\n",
    "        resy = datay[datay==l]\n",
    "        return resx,resy\n",
    "    tmp =   list(zip(*[get_usps(i,datax,datay) for i in l]))\n",
    "    tmpx,tmpy = np.vstack(tmp[0]),np.hstack(tmp[1])\n",
    "    return tmpx,tmpy\n",
    "\n",
    "def show_usps(data):\n",
    "    plt.imshow(data.reshape((16,16)),interpolation=\"nearest\",cmap=\"gray\")\n",
    "    plt.show()"
   ]
  },
  {
   "cell_type": "code",
   "execution_count": 23,
   "outputs": [],
   "source": [
    "path_to_train = '../../data/USPS_train.txt'\n",
    "path_to_test = '../../data/USPS_test.txt'\n",
    "\n",
    "X_train, y_train = load_usps(path_to_train)\n",
    "X_test, y_test = load_usps(path_to_test)"
   ],
   "metadata": {
    "collapsed": false,
    "ExecuteTime": {
     "end_time": "2024-05-22T12:53:29.838898100Z",
     "start_time": "2024-05-22T12:53:29.286334200Z"
    }
   },
   "id": "d51ed2f7e4103a88"
  },
  {
   "cell_type": "code",
   "execution_count": 24,
   "outputs": [
    {
     "name": "stdout",
     "output_type": "stream",
     "text": [
      "(7291, 256)\n",
      "(7291,)\n"
     ]
    }
   ],
   "source": [
    "print(X_train.shape)\n",
    "print(y_train.shape)"
   ],
   "metadata": {
    "collapsed": false,
    "ExecuteTime": {
     "end_time": "2024-05-22T12:53:29.859052300Z",
     "start_time": "2024-05-22T12:53:29.838898100Z"
    }
   },
   "id": "91f2133bf4e2f073"
  },
  {
   "cell_type": "code",
   "execution_count": 25,
   "outputs": [],
   "source": [
    "from src.SequentielNet import Sequentiel, Optim, SGD\n",
    "from src.LinearModel import Linear\n",
    "from src.Loss import CELossSoftMax\n",
    "from src.NonLinearModel import Tanh, Sigmoid\n",
    "import matplotlib.pyplot as plt\n",
    "import numpy as np"
   ],
   "metadata": {
    "collapsed": false,
    "ExecuteTime": {
     "end_time": "2024-05-22T12:53:29.906980800Z",
     "start_time": "2024-05-22T12:53:29.859052300Z"
    }
   },
   "id": "6bab273e35bcf278"
  },
  {
   "cell_type": "code",
   "execution_count": 26,
   "outputs": [],
   "source": [
    "batch = 64\n",
    "input = 256\n",
    "output1 = 128\n",
    "output2 = 64\n",
    "output3 = 20\n",
    "output4 = 10\n",
    "\n",
    "epochs = 200"
   ],
   "metadata": {
    "collapsed": false,
    "ExecuteTime": {
     "end_time": "2024-05-22T12:53:29.922661300Z",
     "start_time": "2024-05-22T12:53:29.875119100Z"
    }
   },
   "id": "ec39ad59ce442f60"
  },
  {
   "cell_type": "code",
   "execution_count": 27,
   "outputs": [
    {
     "data": {
      "text/plain": "<Figure size 640x480 with 1 Axes>",
      "image/png": "[encoded data removed]"
     },
     "metadata": {},
     "output_type": "display_data"
    }
   ],
   "source": [
    "net = Sequentiel(Linear(input, output1), Sigmoid(), Linear(output1, output2), Sigmoid(), Linear(output2, output3), Sigmoid(), Linear(output3, output4))\n",
    "optim = Optim(net, CELossSoftMax(), 0.1)\n",
    "scores = []\n",
    "\n",
    "for iteration in range(epochs):\n",
    "    optim.clean_output()\n",
    "    optim.zero_score()\n",
    "    optim.step(X_train, y_train)\n",
    "    optim.update_output()\n",
    "    scores.append(optim.score.sum())\n",
    "\n",
    "\n",
    "plt.plot(np.arange(epochs), scores)\n",
    "plt.show()\n"
   ],
   "metadata": {
    "collapsed": false,
    "ExecuteTime": {
     "end_time": "2024-05-22T12:53:46.074559600Z",
     "start_time": "2024-05-22T12:53:29.890964400Z"
    }
   },
   "id": "593b65fbc63952c1"
  },
  {
   "cell_type": "code",
   "execution_count": 28,
   "outputs": [
    {
     "data": {
      "text/plain": "array([[ 0.51169288, -0.0133454 ,  1.45154227, ..., -0.42538873,\n        -1.30256193, -2.93315243],\n       [ 1.49039883, -0.73223057,  0.91468998, ..., -1.01546354,\n        -1.49019335, -1.82409765],\n       [ 1.30881698, -5.66454128, -0.35437255, ..., -0.37596893,\n        -0.53769227,  0.28802092],\n       ...,\n       [ 1.10492673, -2.64493859,  0.61863902, ...,  0.87963131,\n         1.32492992,  1.19576788],\n       [ 3.27499946, -0.88588675, -0.55772896, ..., -1.07079984,\n        -1.15797682,  0.78569729],\n       [-2.67175225,  2.99395349,  0.69721134, ...,  0.78655156,\n         0.51895161, -1.02069248]])"
     },
     "execution_count": 28,
     "metadata": {},
     "output_type": "execute_result"
    }
   ],
   "source": [
    "optim.yhat"
   ],
   "metadata": {
    "collapsed": false,
    "ExecuteTime": {
     "end_time": "2024-05-22T12:53:46.110664800Z",
     "start_time": "2024-05-22T12:53:46.074559600Z"
    }
   },
   "id": "abec7bc9e5efb296"
  },
  {
   "cell_type": "code",
   "execution_count": 29,
   "outputs": [],
   "source": [
    "def softmax(X):\n",
    "    return np.exp(X) / np.exp(X).sum()"
   ],
   "metadata": {
    "collapsed": false,
    "ExecuteTime": {
     "end_time": "2024-05-22T12:53:46.110664800Z",
     "start_time": "2024-05-22T12:53:46.090685900Z"
    }
   },
   "id": "4e9c28aece6efdbf"
  },
  {
   "cell_type": "code",
   "execution_count": 30,
   "outputs": [
    {
     "name": "stdout",
     "output_type": "stream",
     "text": [
      "[[8.00505255e-06 4.73525054e-06 2.04896996e-05 ... 3.13613549e-06\n",
      "  1.30449776e-06 2.55438809e-07]\n",
      " [2.13015293e-05 2.30746488e-06 1.19779806e-05 ... 1.73831542e-06\n",
      "  1.08132451e-06 7.74360605e-07]\n",
      " [1.77644100e-05 1.66364161e-08 3.36695066e-06 ... 3.29501627e-06\n",
      "  2.80299297e-06 6.40065901e-06]\n",
      " ...\n",
      " [1.44877979e-05 3.40766238e-07 8.90861738e-06 ... 1.15653245e-05\n",
      "  1.80529653e-05 1.58655155e-05]\n",
      " [1.26897477e-04 1.97880531e-06 2.74738920e-06 ... 1.64473652e-06\n",
      "  1.50742549e-06 1.05284100e-05]\n",
      " [3.31750460e-07 9.58067867e-05 9.63682187e-06 ... 1.05374080e-05\n",
      "  8.06337053e-06 1.72924960e-06]]\n"
     ]
    }
   ],
   "source": [
    "print(softmax(optim.yhat))"
   ],
   "metadata": {
    "collapsed": false,
    "ExecuteTime": {
     "end_time": "2024-05-22T12:53:46.126364400Z",
     "start_time": "2024-05-22T12:53:46.110664800Z"
    }
   },
   "id": "4769df61df80a412"
  },
  {
   "cell_type": "code",
   "execution_count": 31,
   "outputs": [],
   "source": [
    "from sklearn.metrics import accuracy_score"
   ],
   "metadata": {
    "collapsed": false,
    "ExecuteTime": {
     "end_time": "2024-05-22T12:53:46.142102900Z",
     "start_time": "2024-05-22T12:53:46.126364400Z"
    }
   },
   "id": "120245d485bacf0"
  },
  {
   "cell_type": "markdown",
   "source": [
    "#### Train set accuracy"
   ],
   "metadata": {
    "collapsed": false
   },
   "id": "ed18fd2081d2db39"
  },
  {
   "cell_type": "code",
   "execution_count": 32,
   "outputs": [
    {
     "name": "stdout",
     "output_type": "stream",
     "text": [
      "accuracy : 0.6868742285008915\n"
     ]
    }
   ],
   "source": [
    "pred = np.argmax(softmax(optim.yhat), axis=1)\n",
    "print(f'accuracy : {accuracy_score(y_train, pred)}')"
   ],
   "metadata": {
    "collapsed": false,
    "ExecuteTime": {
     "end_time": "2024-05-22T12:53:46.157622400Z",
     "start_time": "2024-05-22T12:53:46.142102900Z"
    }
   },
   "id": "6131565976d5b6b"
  },
  {
   "cell_type": "code",
   "execution_count": 33,
   "outputs": [
    {
     "data": {
      "text/plain": "6"
     },
     "execution_count": 33,
     "metadata": {},
     "output_type": "execute_result"
    }
   ],
   "source": [
    "pred[1]"
   ],
   "metadata": {
    "collapsed": false,
    "ExecuteTime": {
     "end_time": "2024-05-22T12:53:46.173344400Z",
     "start_time": "2024-05-22T12:53:46.157622400Z"
    }
   },
   "id": "aa20150e69b86eec"
  },
  {
   "cell_type": "code",
   "execution_count": 34,
   "outputs": [
    {
     "data": {
      "text/plain": "<Figure size 640x480 with 1 Axes>",
      "image/png": "[encoded data removed]"
     },
     "metadata": {},
     "output_type": "display_data"
    }
   ],
   "source": [
    "show_usps(X_train[1])"
   ],
   "metadata": {
    "collapsed": false,
    "ExecuteTime": {
     "end_time": "2024-05-22T12:53:46.252288300Z",
     "start_time": "2024-05-22T12:53:46.173344400Z"
    }
   },
   "id": "7a964e1ace504ad4"
  },
  {
   "cell_type": "markdown",
   "source": [
    "#### Test set accuracy"
   ],
   "metadata": {
    "collapsed": false
   },
   "id": "ad6136d9c7389652"
  },
  {
   "cell_type": "code",
   "execution_count": 35,
   "outputs": [
    {
     "name": "stdout",
     "output_type": "stream",
     "text": [
      "accuracy : 0.6447433981066268\n"
     ]
    }
   ],
   "source": [
    "optim.clean_output()\n",
    "optim.step(X_test, y_test)\n",
    "optim.update_output()\n",
    "\n",
    "pred_test = np.argmax(softmax(optim.yhat), axis=1)\n",
    "print(f'accuracy : {accuracy_score(y_test, pred_test)}')"
   ],
   "metadata": {
    "collapsed": false,
    "ExecuteTime": {
     "end_time": "2024-05-22T12:53:46.299519Z",
     "start_time": "2024-05-22T12:53:46.252288300Z"
    }
   },
   "id": "3c58878cb9092dc8"
  },
  {
   "cell_type": "markdown",
   "source": [
    "#### SGD"
   ],
   "metadata": {
    "collapsed": false
   },
   "id": "a9167916f68d4d29"
  },
  {
   "cell_type": "code",
   "execution_count": 36,
   "outputs": [
    {
     "name": "stderr",
     "output_type": "stream",
     "text": [
      "D:\\SchoolWork\\M1S2\\ML\\M1S2-ML-Projet\\src\\NonLinearModel.py:32: RuntimeWarning: overflow encountered in exp\n",
      "  return 1 / (1 + np.exp(-X))\n"
     ]
    }
   ],
   "source": [
    "net2 = Sequentiel(Linear(input, output1), Sigmoid(), Linear(output1, output2), Sigmoid(), Linear(output2, output3), Sigmoid(), Linear(output3, output4))\n",
    "\n",
    "optim2 = SGD(net2, X_train, y_train, batch, epochs, CELossSoftMax(), eps=0.1)"
   ],
   "metadata": {
    "collapsed": false,
    "ExecuteTime": {
     "end_time": "2024-05-22T12:54:07.471721300Z",
     "start_time": "2024-05-22T12:53:46.299519Z"
    }
   },
   "id": "fe14e77c9efde8e2"
  },
  {
   "cell_type": "code",
   "execution_count": 37,
   "outputs": [
    {
     "name": "stdout",
     "output_type": "stream",
     "text": [
      "39.02138302309652\n"
     ]
    }
   ],
   "source": [
    "print(optim2.score)"
   ],
   "metadata": {
    "collapsed": false,
    "ExecuteTime": {
     "end_time": "2024-05-22T12:54:07.487366Z",
     "start_time": "2024-05-22T12:54:07.471721300Z"
    }
   },
   "id": "95a3f9644ae9316"
  },
  {
   "cell_type": "markdown",
   "source": [
    "#### Train set accuracy"
   ],
   "metadata": {
    "collapsed": false
   },
   "id": "d69ef8cddbce8788"
  },
  {
   "cell_type": "code",
   "execution_count": 38,
   "outputs": [
    {
     "name": "stdout",
     "output_type": "stream",
     "text": [
      "accuracy : 0.9057742422164312\n"
     ]
    }
   ],
   "source": [
    "pred = np.argmax(softmax(optim2.yhat), axis=1)\n",
    "print(f'accuracy : {accuracy_score(y_train, pred)}')"
   ],
   "metadata": {
    "collapsed": false,
    "ExecuteTime": {
     "end_time": "2024-05-22T12:54:07.518977900Z",
     "start_time": "2024-05-22T12:54:07.487366Z"
    }
   },
   "id": "f0512ac5c0b4b59d"
  },
  {
   "cell_type": "markdown",
   "source": [
    "#### Test set accuracy"
   ],
   "metadata": {
    "collapsed": false
   },
   "id": "6c65c4da244e97cf"
  },
  {
   "cell_type": "code",
   "execution_count": 39,
   "outputs": [
    {
     "name": "stdout",
     "output_type": "stream",
     "text": [
      "accuracy : 0.8555057299451918\n"
     ]
    },
    {
     "name": "stderr",
     "output_type": "stream",
     "text": [
      "D:\\SchoolWork\\M1S2\\ML\\M1S2-ML-Projet\\src\\NonLinearModel.py:32: RuntimeWarning: overflow encountered in exp\n",
      "  return 1 / (1 + np.exp(-X))\n"
     ]
    }
   ],
   "source": [
    "optim2.clean_output()\n",
    "optim2.step(X_test, y_test)\n",
    "optim2.update_output()\n",
    "\n",
    "pred_test = np.argmax(softmax(optim2.yhat), axis=1)\n",
    "print(f'accuracy : {accuracy_score(y_test, pred_test)}')"
   ],
   "metadata": {
    "collapsed": false,
    "ExecuteTime": {
     "end_time": "2024-05-22T12:54:07.567421100Z",
     "start_time": "2024-05-22T12:54:07.503972Z"
    }
   },
   "id": "d7cff62c17ae2a9d"
  },
  {
   "cell_type": "markdown",
   "source": [
    "**We can find that the method with batch which split the data set has greater performance than that without batch (within the same iterations).**\n",
    "**Because of the split of the data set, this method has more implicit learning iterations.**"
   ],
   "metadata": {
    "collapsed": false
   },
   "id": "1e90f6d701a473d5"
  },
  {
   "cell_type": "code",
   "execution_count": 42,
   "outputs": [
    {
     "data": {
      "text/plain": "3"
     },
     "execution_count": 42,
     "metadata": {},
     "output_type": "execute_result"
    }
   ],
   "source": [
    "pred_test[1224]"
   ],
   "metadata": {
    "collapsed": false,
    "ExecuteTime": {
     "end_time": "2024-05-22T12:54:46.957419600Z",
     "start_time": "2024-05-22T12:54:46.941751700Z"
    }
   },
   "id": "627acf13f1b6983"
  },
  {
   "cell_type": "code",
   "execution_count": 43,
   "outputs": [
    {
     "data": {
      "text/plain": "<Figure size 640x480 with 1 Axes>",
      "image/png": "[encoded data removed]"
     },
     "metadata": {},
     "output_type": "display_data"
    }
   ],
   "source": [
    "show_usps(X_test[1224])"
   ],
   "metadata": {
    "collapsed": false,
    "ExecuteTime": {
     "end_time": "2024-05-22T12:54:47.454055Z",
     "start_time": "2024-05-22T12:54:47.368834100Z"
    }
   },
   "id": "eb33f66379f184d5"
  },
  {
   "cell_type": "code",
   "execution_count": 41,
   "outputs": [],
   "source": [],
   "metadata": {
    "collapsed": false,
    "ExecuteTime": {
     "end_time": "2024-05-22T12:54:07.678970900Z",
     "start_time": "2024-05-22T12:54:07.661886800Z"
    }
   },
   "id": "2d8b2b0977d02b83"
  }
 ],
 "metadata": {
  "kernelspec": {
   "display_name": "Python 3",
   "language": "python",
   "name": "python3"
  },
  "language_info": {
   "codemirror_mode": {
    "name": "ipython",
    "version": 2
   },
   "file_extension": ".py",
   "mimetype": "text/x-python",
   "name": "python",
   "nbconvert_exporter": "python",
   "pygments_lexer": "ipython2",
   "version": "2.7.6"
  }
 },
 "nbformat": 4,
 "nbformat_minor": 5
}
