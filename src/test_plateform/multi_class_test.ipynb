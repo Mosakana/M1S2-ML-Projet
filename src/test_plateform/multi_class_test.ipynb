{
 "cells": [
  {
   "cell_type": "code",
   "execution_count": 1,
   "id": "initial_id",
   "metadata": {
    "collapsed": true,
    "ExecuteTime": {
     "end_time": "2024-05-20T15:15:00.003862200Z",
     "start_time": "2024-05-20T15:14:59.933131Z"
    }
   },
   "outputs": [],
   "source": [
    "import numpy as np\n",
    "\n",
    "def load_usps(fn):\n",
    "    with open(fn,\"r\") as f:\n",
    "        f.readline()\n",
    "        data = [[float(x) for x in l.split()] for l in f if len(l.split())>2]\n",
    "    tmp=np.array(data)\n",
    "    return tmp[:,1:],tmp[:,0].astype(int)\n",
    "\n",
    "def get_usps(l,datax,datay):\n",
    "    if type(l)!=list:\n",
    "        resx = datax[datay==l,:]\n",
    "        resy = datay[datay==l]\n",
    "        return resx,resy\n",
    "    tmp =   list(zip(*[get_usps(i,datax,datay) for i in l]))\n",
    "    tmpx,tmpy = np.vstack(tmp[0]),np.hstack(tmp[1])\n",
    "    return tmpx,tmpy\n",
    "\n",
    "def show_usps(data):\n",
    "    plt.imshow(data.reshape((16,16)),interpolation=\"nearest\",cmap=\"gray\")\n",
    "    plt.show()"
   ]
  },
  {
   "cell_type": "code",
   "execution_count": 2,
   "outputs": [],
   "source": [
    "path_to_train = '../../data/USPS_train.txt'\n",
    "path_to_test = '../../data/USPS_test.txt'\n",
    "\n",
    "X_train, y_train = load_usps(path_to_train)\n",
    "X_test, y_test = load_usps(path_to_test)"
   ],
   "metadata": {
    "collapsed": false,
    "ExecuteTime": {
     "end_time": "2024-05-20T15:15:00.572913900Z",
     "start_time": "2024-05-20T15:15:00.007332Z"
    }
   },
   "id": "d51ed2f7e4103a88"
  },
  {
   "cell_type": "code",
   "execution_count": 3,
   "outputs": [
    {
     "name": "stdout",
     "output_type": "stream",
     "text": [
      "(7291, 256)\n",
      "(7291,)\n"
     ]
    }
   ],
   "source": [
    "print(X_train.shape)\n",
    "print(y_train.shape)"
   ],
   "metadata": {
    "collapsed": false,
    "ExecuteTime": {
     "end_time": "2024-05-20T15:15:00.585225Z",
     "start_time": "2024-05-20T15:15:00.563914300Z"
    }
   },
   "id": "91f2133bf4e2f073"
  },
  {
   "cell_type": "code",
   "execution_count": 4,
   "outputs": [],
   "source": [
    "from src.SequentielNet import Sequentiel, Optim, SGD\n",
    "from src.LinearModel import Linear\n",
    "from src.Loss import CELossSoftMax\n",
    "from src.NonLinearModel import Tanh, Sigmoid\n",
    "import matplotlib.pyplot as plt\n",
    "import numpy as np"
   ],
   "metadata": {
    "collapsed": false,
    "ExecuteTime": {
     "end_time": "2024-05-20T15:15:00.887251300Z",
     "start_time": "2024-05-20T15:15:00.580549700Z"
    }
   },
   "id": "6bab273e35bcf278"
  },
  {
   "cell_type": "code",
   "execution_count": 5,
   "outputs": [],
   "source": [
    "batch = 64\n",
    "input = 256\n",
    "output1 = 128\n",
    "output2 = 64\n",
    "output3 = 20\n",
    "output4 = 10\n",
    "\n",
    "epochs = 100"
   ],
   "metadata": {
    "collapsed": false,
    "ExecuteTime": {
     "end_time": "2024-05-20T15:15:00.901854100Z",
     "start_time": "2024-05-20T15:15:00.888214500Z"
    }
   },
   "id": "ec39ad59ce442f60"
  },
  {
   "cell_type": "code",
   "execution_count": 6,
   "outputs": [
    {
     "data": {
      "text/plain": "<Figure size 640x480 with 1 Axes>",
      "image/png": "[encoded data removed]"
     },
     "metadata": {},
     "output_type": "display_data"
    }
   ],
   "source": [
    "net = Sequentiel(Linear(input, output1), Sigmoid(), Linear(output1, output2), Sigmoid(), Linear(output2, output3), Sigmoid(), Linear(output3, output4))\n",
    "optim = Optim(net, CELossSoftMax(), 0.1)\n",
    "scores = []\n",
    "\n",
    "for iteration in range(epochs):\n",
    "    optim.clean_output()\n",
    "    optim.zero_score()\n",
    "    optim.step(X_train, y_train)\n",
    "    optim.update_output()\n",
    "    scores.append(optim.score.sum())\n",
    "\n",
    "\n",
    "plt.plot(np.arange(epochs), scores)\n",
    "plt.show()\n"
   ],
   "metadata": {
    "collapsed": false,
    "ExecuteTime": {
     "end_time": "2024-05-20T15:15:08.630230200Z",
     "start_time": "2024-05-20T15:15:00.905435Z"
    }
   },
   "id": "593b65fbc63952c1"
  },
  {
   "cell_type": "code",
   "execution_count": 7,
   "outputs": [
    {
     "data": {
      "text/plain": "array([[ 1.57203475, -2.0070241 ,  0.08802327, ..., -0.14742299,\n        -0.3011995 , -0.3860301 ],\n       [ 1.03024025, -2.13923887,  0.47700369, ..., -0.5535346 ,\n        -0.08592678, -0.71993635],\n       [ 0.54873818, -3.79657822, -0.11656992, ..., -0.67096892,\n         0.6763511 ,  0.28948443],\n       ...,\n       [ 1.6584592 , -1.75219274,  0.15144524, ..., -0.29218401,\n         0.13349946,  0.75419175],\n       [ 1.85258693, -1.70783119,  0.21363365, ..., -0.13346396,\n        -0.0670638 ,  0.0135218 ],\n       [-2.08691423,  0.81934939,  1.70208112, ...,  0.39876969,\n         0.39411539, -1.53321636]])"
     },
     "execution_count": 7,
     "metadata": {},
     "output_type": "execute_result"
    }
   ],
   "source": [
    "optim.yhat"
   ],
   "metadata": {
    "collapsed": false,
    "ExecuteTime": {
     "end_time": "2024-05-20T15:15:08.661183300Z",
     "start_time": "2024-05-20T15:15:08.626206300Z"
    }
   },
   "id": "abec7bc9e5efb296"
  },
  {
   "cell_type": "code",
   "execution_count": 8,
   "outputs": [],
   "source": [
    "def softmax(X):\n",
    "    return np.exp(X) / np.exp(X).sum()"
   ],
   "metadata": {
    "collapsed": false,
    "ExecuteTime": {
     "end_time": "2024-05-20T15:15:08.661183300Z",
     "start_time": "2024-05-20T15:15:08.638895600Z"
    }
   },
   "id": "4e9c28aece6efdbf"
  },
  {
   "cell_type": "code",
   "execution_count": 9,
   "outputs": [
    {
     "name": "stdout",
     "output_type": "stream",
     "text": [
      "[[1.66260112e-06 4.63898065e-08 3.76955487e-07 ... 2.97877061e-07\n",
      "  2.55418746e-07 2.34645002e-07]\n",
      " [9.67140807e-07 4.06445588e-08 5.56188649e-07 ... 1.98456363e-07\n",
      "  3.16770350e-07 1.68034193e-07]\n",
      " [5.97552428e-07 7.74870415e-09 3.07210729e-07 ... 1.76467182e-07\n",
      "  6.78887169e-07 4.61087704e-07]\n",
      " ...\n",
      " [1.81268246e-06 5.98541702e-08 4.01637157e-07 ... 2.57731883e-07\n",
      "  3.94493751e-07 7.33843357e-07]\n",
      " [2.20105215e-06 6.25691692e-08 4.27407331e-07 ... 3.02064293e-07\n",
      "  3.22802293e-07 3.49892388e-07]\n",
      " [4.28278939e-08 7.83251023e-07 1.89350515e-06 ... 5.14334348e-07\n",
      "  5.11946043e-07 7.45065830e-08]]\n"
     ]
    }
   ],
   "source": [
    "print(softmax(optim.yhat))"
   ],
   "metadata": {
    "collapsed": false,
    "ExecuteTime": {
     "end_time": "2024-05-20T15:15:08.691932700Z",
     "start_time": "2024-05-20T15:15:08.655103200Z"
    }
   },
   "id": "4769df61df80a412"
  },
  {
   "cell_type": "code",
   "execution_count": 10,
   "outputs": [],
   "source": [
    "from sklearn.metrics import accuracy_score"
   ],
   "metadata": {
    "collapsed": false,
    "ExecuteTime": {
     "end_time": "2024-05-20T15:15:09.114163900Z",
     "start_time": "2024-05-20T15:15:08.668858200Z"
    }
   },
   "id": "120245d485bacf0"
  },
  {
   "cell_type": "markdown",
   "source": [
    "#### Train set accuracy"
   ],
   "metadata": {
    "collapsed": false
   },
   "id": "ed18fd2081d2db39"
  },
  {
   "cell_type": "code",
   "execution_count": 11,
   "outputs": [
    {
     "name": "stdout",
     "output_type": "stream",
     "text": [
      "accuracy : 0.5360032917295295\n"
     ]
    }
   ],
   "source": [
    "pred = np.argmax(softmax(optim.yhat), axis=1)\n",
    "print(f'accuracy : {accuracy_score(y_train, pred)}')"
   ],
   "metadata": {
    "collapsed": false,
    "ExecuteTime": {
     "end_time": "2024-05-20T15:15:09.149668600Z",
     "start_time": "2024-05-20T15:15:09.116750700Z"
    }
   },
   "id": "6131565976d5b6b"
  },
  {
   "cell_type": "code",
   "execution_count": 12,
   "outputs": [
    {
     "data": {
      "text/plain": "0"
     },
     "execution_count": 12,
     "metadata": {},
     "output_type": "execute_result"
    }
   ],
   "source": [
    "pred[1]"
   ],
   "metadata": {
    "collapsed": false,
    "ExecuteTime": {
     "end_time": "2024-05-20T15:15:09.179538400Z",
     "start_time": "2024-05-20T15:15:09.135062600Z"
    }
   },
   "id": "aa20150e69b86eec"
  },
  {
   "cell_type": "code",
   "execution_count": 13,
   "outputs": [
    {
     "data": {
      "text/plain": "<Figure size 640x480 with 1 Axes>",
      "image/png": "[encoded data removed]"
     },
     "metadata": {},
     "output_type": "display_data"
    }
   ],
   "source": [
    "show_usps(X_train[1])"
   ],
   "metadata": {
    "collapsed": false,
    "ExecuteTime": {
     "end_time": "2024-05-20T15:15:09.268007400Z",
     "start_time": "2024-05-20T15:15:09.146668400Z"
    }
   },
   "id": "7a964e1ace504ad4"
  },
  {
   "cell_type": "markdown",
   "source": [
    "#### Test set accuracy"
   ],
   "metadata": {
    "collapsed": false
   },
   "id": "ad6136d9c7389652"
  },
  {
   "cell_type": "code",
   "execution_count": 14,
   "outputs": [
    {
     "name": "stdout",
     "output_type": "stream",
     "text": [
      "accuracy : 0.5117090184354758\n"
     ]
    }
   ],
   "source": [
    "optim.clean_output()\n",
    "optim.step(X_test, y_test)\n",
    "optim.update_output()\n",
    "\n",
    "pred_test = np.argmax(softmax(optim.yhat), axis=1)\n",
    "print(f'accuracy : {accuracy_score(y_test, pred_test)}')"
   ],
   "metadata": {
    "collapsed": false,
    "ExecuteTime": {
     "end_time": "2024-05-20T15:15:09.320744100Z",
     "start_time": "2024-05-20T15:15:09.240177500Z"
    }
   },
   "id": "3c58878cb9092dc8"
  },
  {
   "cell_type": "markdown",
   "source": [
    "#### SGD"
   ],
   "metadata": {
    "collapsed": false
   },
   "id": "a9167916f68d4d29"
  },
  {
   "cell_type": "code",
   "execution_count": 15,
   "outputs": [
    {
     "name": "stderr",
     "output_type": "stream",
     "text": [
      "D:\\SchoolWork\\M1S2\\ML\\M1S2-ML-Projet\\src\\NonLinearModel.py:32: RuntimeWarning: overflow encountered in exp\n",
      "  return 1 / (1 + np.exp(-X))\n"
     ]
    }
   ],
   "source": [
    "net2 = Sequentiel(Linear(input, output1), Sigmoid(), Linear(output1, output2), Sigmoid(), Linear(output2, output3), Sigmoid(), Linear(output3, output4))\n",
    "\n",
    "optim2 = SGD(net2, X_train, y_train, batch, epochs, CELossSoftMax(), eps=0.1)"
   ],
   "metadata": {
    "collapsed": false,
    "ExecuteTime": {
     "end_time": "2024-05-20T15:15:19.519133800Z",
     "start_time": "2024-05-20T15:15:09.270927600Z"
    }
   },
   "id": "fe14e77c9efde8e2"
  },
  {
   "cell_type": "code",
   "execution_count": 16,
   "outputs": [
    {
     "name": "stdout",
     "output_type": "stream",
     "text": [
      "23.381263916368642\n"
     ]
    }
   ],
   "source": [
    "print(optim2.score)"
   ],
   "metadata": {
    "collapsed": false,
    "ExecuteTime": {
     "end_time": "2024-05-20T15:15:19.541834300Z",
     "start_time": "2024-05-20T15:15:19.521639400Z"
    }
   },
   "id": "95a3f9644ae9316"
  },
  {
   "cell_type": "markdown",
   "source": [
    "#### Train set accuracy"
   ],
   "metadata": {
    "collapsed": false
   },
   "id": "d69ef8cddbce8788"
  },
  {
   "cell_type": "code",
   "execution_count": 20,
   "outputs": [
    {
     "name": "stdout",
     "output_type": "stream",
     "text": [
      "accuracy : 0.938828692909066\n"
     ]
    }
   ],
   "source": [
    "pred = np.argmax(softmax(optim2.yhat), axis=1)\n",
    "print(f'accuracy : {accuracy_score(y_train, pred)}')"
   ],
   "metadata": {
    "collapsed": false,
    "ExecuteTime": {
     "end_time": "2024-05-20T15:15:40.338854700Z",
     "start_time": "2024-05-20T15:15:40.327499800Z"
    }
   },
   "id": "f0512ac5c0b4b59d"
  },
  {
   "cell_type": "markdown",
   "source": [
    "#### Test set accuracy"
   ],
   "metadata": {
    "collapsed": false
   },
   "id": "6c65c4da244e97cf"
  },
  {
   "cell_type": "code",
   "execution_count": 22,
   "outputs": [
    {
     "name": "stdout",
     "output_type": "stream",
     "text": [
      "accuracy : 0.8858993522670653\n"
     ]
    }
   ],
   "source": [
    "optim2.clean_output()\n",
    "optim2.step(X_test, y_test)\n",
    "optim2.update_output()\n",
    "\n",
    "pred_test = np.argmax(softmax(optim2.yhat), axis=1)\n",
    "print(f'accuracy : {accuracy_score(y_test, pred_test)}')"
   ],
   "metadata": {
    "collapsed": false,
    "ExecuteTime": {
     "end_time": "2024-05-20T15:16:00.474258400Z",
     "start_time": "2024-05-20T15:16:00.421481400Z"
    }
   },
   "id": "d7cff62c17ae2a9d"
  },
  {
   "cell_type": "markdown",
   "source": [
    "**We can find that the method with batch which split the data set has greater performance than that without batch (within the same iterations).**\n",
    "**Because of the split of the data set, this method has more implicit learning iterations.**"
   ],
   "metadata": {
    "collapsed": false
   },
   "id": "1e90f6d701a473d5"
  },
  {
   "cell_type": "code",
   "execution_count": null,
   "outputs": [],
   "source": [],
   "metadata": {
    "collapsed": false
   },
   "id": "627acf13f1b6983"
  }
 ],
 "metadata": {
  "kernelspec": {
   "display_name": "Python 3",
   "language": "python",
   "name": "python3"
  },
  "language_info": {
   "codemirror_mode": {
    "name": "ipython",
    "version": 2
   },
   "file_extension": ".py",
   "mimetype": "text/x-python",
   "name": "python",
   "nbconvert_exporter": "python",
   "pygments_lexer": "ipython2",
   "version": "2.7.6"
  }
 },
 "nbformat": 4,
 "nbformat_minor": 5
}
