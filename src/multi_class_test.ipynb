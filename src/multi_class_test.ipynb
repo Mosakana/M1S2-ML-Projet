{
 "cells": [
  {
   "cell_type": "code",
   "execution_count": 83,
   "id": "initial_id",
   "metadata": {
    "collapsed": true,
    "ExecuteTime": {
     "end_time": "2024-05-20T14:08:49.962236400Z",
     "start_time": "2024-05-20T14:08:49.888810100Z"
    }
   },
   "outputs": [],
   "source": [
    "import numpy as np\n",
    "\n",
    "def load_usps(fn):\n",
    "    with open(fn,\"r\") as f:\n",
    "        f.readline()\n",
    "        data = [[float(x) for x in l.split()] for l in f if len(l.split())>2]\n",
    "    tmp=np.array(data)\n",
    "    return tmp[:,1:],tmp[:,0].astype(int)\n",
    "\n",
    "def get_usps(l,datax,datay):\n",
    "    if type(l)!=list:\n",
    "        resx = datax[datay==l,:]\n",
    "        resy = datay[datay==l]\n",
    "        return resx,resy\n",
    "    tmp =   list(zip(*[get_usps(i,datax,datay) for i in l]))\n",
    "    tmpx,tmpy = np.vstack(tmp[0]),np.hstack(tmp[1])\n",
    "    return tmpx,tmpy\n",
    "\n",
    "def show_usps(data):\n",
    "    plt.imshow(data.reshape((16,16)),interpolation=\"nearest\",cmap=\"gray\")\n",
    "    plt.show()"
   ]
  },
  {
   "cell_type": "code",
   "execution_count": 84,
   "outputs": [],
   "source": [
    "path_to_train = '../data/USPS_train.txt'\n",
    "path_to_test = '../data/USPS_test.txt'\n",
    "\n",
    "X_train, y_train = load_usps(path_to_train)\n",
    "X_test, y_test = load_usps(path_to_test)"
   ],
   "metadata": {
    "collapsed": false,
    "ExecuteTime": {
     "end_time": "2024-05-20T14:08:50.433008600Z",
     "start_time": "2024-05-20T14:08:49.901642200Z"
    }
   },
   "id": "d51ed2f7e4103a88"
  },
  {
   "cell_type": "code",
   "execution_count": 85,
   "outputs": [
    {
     "name": "stdout",
     "output_type": "stream",
     "text": [
      "(7291, 256)\n",
      "(7291,)\n"
     ]
    }
   ],
   "source": [
    "print(X_train.shape)\n",
    "print(y_train.shape)"
   ],
   "metadata": {
    "collapsed": false,
    "ExecuteTime": {
     "end_time": "2024-05-20T14:08:50.459086Z",
     "start_time": "2024-05-20T14:08:50.434008Z"
    }
   },
   "id": "91f2133bf4e2f073"
  },
  {
   "cell_type": "code",
   "execution_count": 86,
   "outputs": [],
   "source": [
    "from SequentielNet import Sequentiel, Optim, SGD\n",
    "from LinearModel import Linear\n",
    "from MultiClass import CELossSoftMax\n",
    "from NonLinearModel import Tanh, Sigmoid, SoftMax\n",
    "import matplotlib.pyplot as plt\n",
    "import numpy as np"
   ],
   "metadata": {
    "collapsed": false,
    "ExecuteTime": {
     "end_time": "2024-05-20T14:08:50.492117200Z",
     "start_time": "2024-05-20T14:08:50.450581Z"
    }
   },
   "id": "6bab273e35bcf278"
  },
  {
   "cell_type": "code",
   "execution_count": 87,
   "outputs": [],
   "source": [
    "batch = 64\n",
    "input = 256\n",
    "output1 = 128\n",
    "output2 = 64\n",
    "output3 = 10\n",
    "\n",
    "epochs = 100"
   ],
   "metadata": {
    "collapsed": false,
    "ExecuteTime": {
     "end_time": "2024-05-20T14:08:50.493117300Z",
     "start_time": "2024-05-20T14:08:50.466590400Z"
    }
   },
   "id": "ec39ad59ce442f60"
  },
  {
   "cell_type": "code",
   "execution_count": 88,
   "outputs": [
    {
     "data": {
      "text/plain": "<Figure size 640x480 with 1 Axes>",
      "image/png": "[encoded data removed]"
     },
     "metadata": {},
     "output_type": "display_data"
    }
   ],
   "source": [
    "net = Sequentiel(Linear(input, output1), Sigmoid(), Linear(output1, output2), Sigmoid(), Linear(output2, output3))\n",
    "optim = Optim(net, CELossSoftMax(), 1e-3)\n",
    "scores = []\n",
    "\n",
    "for iteration in range(epochs):\n",
    "    optim.zero_score()\n",
    "    optim.step(X_train, y_train)\n",
    "    optim.update_output()\n",
    "    scores.append(optim.score.sum())\n",
    "\n",
    "\n",
    "plt.plot(np.arange(epochs), scores)\n",
    "plt.show()\n"
   ],
   "metadata": {
    "collapsed": false,
    "ExecuteTime": {
     "end_time": "2024-05-20T14:10:05.172374400Z",
     "start_time": "2024-05-20T14:08:50.480605800Z"
    }
   },
   "id": "593b65fbc63952c1"
  },
  {
   "cell_type": "code",
   "execution_count": 89,
   "outputs": [
    {
     "data": {
      "text/plain": "array([[ 2.87914081,  0.09569521,  1.7404527 , ..., -1.2564206 ,\n        -1.65738839, -2.77280679],\n       [ 2.92671174, -0.71097378,  1.36088925, ...,  0.65343716,\n         0.71292702, -0.41374311],\n       [ 2.05957605, -2.22399649,  2.89169213, ...,  1.92658624,\n         2.97588055,  0.28698616],\n       ...,\n       [ 1.436677  , -1.09918288,  3.05800553, ...,  1.35522433,\n         3.61481031, -0.84309467],\n       [ 6.85878832, -2.76252794,  0.74477125, ...,  0.59323618,\n        -0.55544399,  0.35462607],\n       [-3.11795063,  4.71800152,  3.26890454, ...,  1.42181396,\n         5.13744936,  3.74209609]])"
     },
     "execution_count": 89,
     "metadata": {},
     "output_type": "execute_result"
    }
   ],
   "source": [
    "optim.y_hat"
   ],
   "metadata": {
    "collapsed": false,
    "ExecuteTime": {
     "end_time": "2024-05-20T14:10:05.187609500Z",
     "start_time": "2024-05-20T14:10:05.162746700Z"
    }
   },
   "id": "abec7bc9e5efb296"
  },
  {
   "cell_type": "code",
   "execution_count": 90,
   "outputs": [],
   "source": [
    "softmax = SoftMax()"
   ],
   "metadata": {
    "collapsed": false,
    "ExecuteTime": {
     "end_time": "2024-05-20T14:10:05.219283200Z",
     "start_time": "2024-05-20T14:10:05.180258600Z"
    }
   },
   "id": "4e9c28aece6efdbf"
  },
  {
   "cell_type": "code",
   "execution_count": 91,
   "outputs": [
    {
     "data": {
      "text/plain": "array([[7.15021793e-07, 4.42063047e-08, 2.28977767e-07, ...,\n        1.14358323e-08, 7.65825249e-09, 2.51020750e-09],\n       [7.49858071e-07, 1.97311466e-08, 1.56657433e-07, ...,\n        7.72162072e-08, 8.19491742e-08, 2.65606049e-08],\n       [3.15055325e-07, 4.34565163e-09, 7.24052818e-07, ...,\n        2.75822750e-07, 7.87649163e-07, 5.35255107e-08],\n       ...,\n       [1.68991635e-07, 1.33830547e-08, 8.55065220e-07, ...,\n        1.55772490e-07, 1.49216375e-06, 1.72891224e-08],\n       [3.82523598e-05, 2.53614260e-09, 8.46007779e-08, ...,\n        7.27048714e-08, 2.30514395e-08, 5.72712230e-08],\n       [1.77752434e-09, 4.49703575e-06, 1.05582397e-06, ...,\n        1.66498478e-07, 6.84053740e-06, 1.69471235e-06]])"
     },
     "execution_count": 91,
     "metadata": {},
     "output_type": "execute_result"
    }
   ],
   "source": [
    "print(softmax.forward(optim.y_hat))"
   ],
   "metadata": {
    "collapsed": false,
    "ExecuteTime": {
     "end_time": "2024-05-20T14:10:05.264327700Z",
     "start_time": "2024-05-20T14:10:05.194122900Z"
    }
   },
   "id": "4769df61df80a412"
  },
  {
   "cell_type": "code",
   "execution_count": 92,
   "outputs": [],
   "source": [
    "from sklearn.metrics import accuracy_score"
   ],
   "metadata": {
    "collapsed": false,
    "ExecuteTime": {
     "end_time": "2024-05-20T14:10:05.265844300Z",
     "start_time": "2024-05-20T14:10:05.208739400Z"
    }
   },
   "id": "120245d485bacf0"
  },
  {
   "cell_type": "code",
   "execution_count": 93,
   "outputs": [
    {
     "name": "stdout",
     "output_type": "stream",
     "text": [
      "accuracy : 0.8969962968042793\n"
     ]
    }
   ],
   "source": [
    "pred = np.argmax(softmax.forward(optim.y_hat), axis=1)\n",
    "print(f'accuracy : {accuracy_score(y_train, pred)}')"
   ],
   "metadata": {
    "collapsed": false,
    "ExecuteTime": {
     "end_time": "2024-05-20T14:10:05.265844300Z",
     "start_time": "2024-05-20T14:10:05.223710400Z"
    }
   },
   "id": "6131565976d5b6b"
  },
  {
   "cell_type": "code",
   "execution_count": 94,
   "outputs": [
    {
     "data": {
      "text/plain": "5"
     },
     "execution_count": 94,
     "metadata": {},
     "output_type": "execute_result"
    }
   ],
   "source": [
    "pred[1]"
   ],
   "metadata": {
    "collapsed": false,
    "ExecuteTime": {
     "end_time": "2024-05-20T14:10:05.265844300Z",
     "start_time": "2024-05-20T14:10:05.241275700Z"
    }
   },
   "id": "aa20150e69b86eec"
  },
  {
   "cell_type": "code",
   "execution_count": 95,
   "outputs": [
    {
     "data": {
      "text/plain": "<Figure size 640x480 with 1 Axes>",
      "image/png": "[encoded data removed]"
     },
     "metadata": {},
     "output_type": "display_data"
    }
   ],
   "source": [
    "show_usps(X_train[1])"
   ],
   "metadata": {
    "collapsed": false,
    "ExecuteTime": {
     "end_time": "2024-05-20T14:10:05.483338700Z",
     "start_time": "2024-05-20T14:10:05.257314600Z"
    }
   },
   "id": "7a964e1ace504ad4"
  },
  {
   "cell_type": "code",
   "execution_count": 96,
   "outputs": [
    {
     "name": "stdout",
     "output_type": "stream",
     "text": [
      "accuracy : 0.8490284005979073\n"
     ]
    }
   ],
   "source": [
    "optim.step(X_test, y_test)\n",
    "optim.update_output()\n",
    "\n",
    "pred_test = np.argmax(softmax.forward(optim.y_hat), axis=1)\n",
    "print(f'accuracy : {accuracy_score(y_test, pred_test)}')"
   ],
   "metadata": {
    "collapsed": false,
    "ExecuteTime": {
     "end_time": "2024-05-20T14:10:05.499172200Z",
     "start_time": "2024-05-20T14:10:05.401066600Z"
    }
   },
   "id": "3c58878cb9092dc8"
  },
  {
   "cell_type": "code",
   "execution_count": 96,
   "outputs": [],
   "source": [],
   "metadata": {
    "collapsed": false,
    "ExecuteTime": {
     "end_time": "2024-05-20T14:10:05.499172200Z",
     "start_time": "2024-05-20T14:10:05.483338700Z"
    }
   },
   "id": "5b928d25f0c7a046"
  }
 ],
 "metadata": {
  "kernelspec": {
   "display_name": "Python 3",
   "language": "python",
   "name": "python3"
  },
  "language_info": {
   "codemirror_mode": {
    "name": "ipython",
    "version": 2
   },
   "file_extension": ".py",
   "mimetype": "text/x-python",
   "name": "python",
   "nbconvert_exporter": "python",
   "pygments_lexer": "ipython2",
   "version": "2.7.6"
  }
 },
 "nbformat": 4,
 "nbformat_minor": 5
}
